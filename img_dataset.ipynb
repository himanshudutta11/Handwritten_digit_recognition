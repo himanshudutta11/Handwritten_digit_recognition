{
 "cells": [
  {
   "cell_type": "code",
   "execution_count": 1,
   "id": "9caba5c2",
   "metadata": {},
   "outputs": [
    {
     "name": "stdout",
     "output_type": "stream",
     "text": [
      "Overwriting MiniVggnet.py\n"
     ]
    }
   ],
   "source": [
    "%%writefile MiniVggnet.py\n",
    "import tensorflow as tf\n",
    "#from tf.keras.models import Sequential\n",
    "#from tf.keras import backend as K\n",
    "\n",
    "class MiniVGGNet:\n",
    "    @staticmethod\n",
    "    def build(width, height, depth, classes):\n",
    "        # initialize the model along with the input shape to be\n",
    "        # \"channels last\" and the channels dimension itself\n",
    "        model = tf.keras.models.Sequential()\n",
    "        inputShape = (height, width, depth)\n",
    "        chanDim = -1\n",
    "        if tf.keras.backend.image_data_format() == \"channels_first\":\n",
    "            inputShape = (depth, height, width)\n",
    "            chanDim = 1\n",
    "\n",
    "        model.add(tf.keras.layers.Conv2D(32, (3, 3), padding=\"same\",\n",
    "                         input_shape=inputShape))\n",
    "        model.add(tf.keras.layers.Activation(\"relu\"))\n",
    "        model.add(tf.keras.layers.BatchNormalization(axis=chanDim))\n",
    "        model.add(tf.keras.layers.Conv2D(32, (3, 3), padding=\"same\"))\n",
    "        model.add(tf.keras.layers.Activation(\"relu\"))\n",
    "        model.add(tf.keras.layers.BatchNormalization(axis=chanDim))\n",
    "        model.add(tf.keras.layers.MaxPooling2D(pool_size=(2, 2)))\n",
    "        model.add(tf.keras.layers.Dropout(0.25))\n",
    "\n",
    "        model.add(tf.keras.layers.Conv2D(64, (3, 3), padding=\"same\"))\n",
    "        model.add(tf.keras.layers.Activation(\"relu\"))\n",
    "        model.add(tf.keras.layers.BatchNormalization(axis=chanDim))\n",
    "        model.add(tf.keras.layers.Conv2D(64, (3, 3), padding=\"same\"))\n",
    "        model.add(tf.keras.layers.Activation(\"relu\"))\n",
    "        model.add(tf.keras.layers.BatchNormalization(axis=chanDim))\n",
    "        model.add(tf.keras.layers.MaxPooling2D(pool_size=(2, 2)))\n",
    "        model.add(tf.keras.layers.Dropout(0.25))\n",
    "\n",
    "        model.add(tf.keras.layers.Flatten())\n",
    "        model.add(tf.keras.layers.Dense(512))\n",
    "        model.add(tf.keras.layers.Activation(\"relu\"))\n",
    "        model.add(tf.keras.layers.BatchNormalization())\n",
    "        model.add(tf.keras.layers.Dropout(0.5))\n",
    "\n",
    "        model.add(tf.keras.layers.Dense(classes))\n",
    "        model.add(tf.keras.layers.Activation(\"softmax\"))\n",
    "        # return the constructed network architecture\n",
    "        return model"
   ]
  },
  {
   "cell_type": "code",
   "execution_count": 2,
   "id": "a61b7431",
   "metadata": {},
   "outputs": [
    {
     "name": "stdout",
     "output_type": "stream",
     "text": [
      "'A_Z Handwritten Data.csv'   img_dataset.ipynb\t __pycache__\r\n",
      " digit_proj.ipynb\t     MiniVggnet.py\t Untitled.ipynb\r\n"
     ]
    }
   ],
   "source": [
    "import numpy as np \n",
    "import pandas as pd \n",
    "import matplotlib.pyplot as plt\n",
    "import seaborn as sns\n",
    "import os\n",
    "\n",
    "from sklearn.preprocessing import MinMaxScaler\n",
    "\n",
    "import tensorflow as tf\n",
    "\n",
    "from sklearn.model_selection import train_test_split\n",
    "from sklearn.metrics import confusion_matrix\n",
    "\n",
    "import MiniVggnet\n",
    "\n",
    "!ls"
   ]
  },
  {
   "cell_type": "code",
   "execution_count": 3,
   "id": "105a727f",
   "metadata": {
    "scrolled": true
   },
   "outputs": [],
   "source": [
    "data=pd.read_csv('A_Z Handwritten Data.csv').astype('float32')\n",
    "#print(data.head(1))"
   ]
  },
  {
   "cell_type": "code",
   "execution_count": 4,
   "id": "43bf09c7",
   "metadata": {
    "scrolled": true
   },
   "outputs": [
    {
     "name": "stdout",
     "output_type": "stream",
     "text": [
      "(372450, 784) (372450,)\n"
     ]
    }
   ],
   "source": [
    "data.rename(columns={'0': 'label'}, inplace=True)\n",
    "X = data.drop('label', axis=1)\n",
    "y = data['label']\n",
    "print(X.shape, y.shape)\n",
    "X_train, X_test, y_train, y_test = train_test_split(X, y, test_size=0.33, random_state=42)"
   ]
  },
  {
   "cell_type": "code",
   "execution_count": 5,
   "id": "90698d85",
   "metadata": {},
   "outputs": [],
   "source": [
    "standard_scaler = MinMaxScaler()\n",
    "standard_scaler.fit(X_train)\n",
    "X_train = standard_scaler.transform(X_train)\n",
    "X_test = standard_scaler.transform(X_test)"
   ]
  },
  {
   "cell_type": "code",
   "execution_count": 6,
   "id": "3d108aa0",
   "metadata": {},
   "outputs": [],
   "source": [
    "if tf.keras.backend.image_data_format() == 'channels_first':\n",
    "  X_train = X_train.reshape(X_train.shape[0], 1, 28,28)\n",
    "  X_test = X_test.reshape(X_test.shape[0], 1, 28, 28)\n",
    "  input_shape = (1, 28, 28)\n",
    "else:\n",
    "  X_train = X_train.reshape(X_train.shape[0],28, 28, 1)\n",
    "  X_test = X_test.reshape(X_test.shape[0],28, 28, 1)\n",
    "  input_shape = (28, 28, 1)"
   ]
  },
  {
   "cell_type": "code",
   "execution_count": 7,
   "id": "8ff726c0",
   "metadata": {},
   "outputs": [],
   "source": [
    "y_train = tf.keras.utils.to_categorical(y_train)\n",
    "y_test = tf.keras.utils.to_categorical(y_test)"
   ]
  },
  {
   "cell_type": "code",
   "execution_count": 8,
   "id": "0ea4d348",
   "metadata": {},
   "outputs": [],
   "source": [
    "aug = tf.keras.preprocessing.image.ImageDataGenerator(rotation_range=30, width_shift_range=0.1,\n",
    "height_shift_range=0.1, shear_range=0.2, zoom_range=0.2, fill_mode=\"nearest\")"
   ]
  },
  {
   "cell_type": "code",
   "execution_count": 9,
   "id": "4e2ccb57",
   "metadata": {},
   "outputs": [
    {
     "name": "stdout",
     "output_type": "stream",
     "text": [
      "[INFO] compiling model....\n"
     ]
    }
   ],
   "source": [
    "print(\"[INFO] compiling model....\")\n",
    "\n",
    "opt = tf.keras.optimizers.SGD(lr=0.001)\n",
    "model=MiniVggnet.MiniVGGNet.build(width=28,height=28,depth=1,classes=26)\n",
    "model.compile(loss=\"categorical_crossentropy\",optimizer=opt,metrics=[\"accuracy\"])"
   ]
  },
  {
   "cell_type": "code",
   "execution_count": 11,
   "id": "62efa28d",
   "metadata": {},
   "outputs": [
    {
     "name": "stdout",
     "output_type": "stream",
     "text": [
      "[INFO] training network...\n",
      "WARNING:tensorflow:From <ipython-input-11-d978477d2de4>:5: Model.fit_generator (from tensorflow.python.keras.engine.training) is deprecated and will be removed in a future version.\n",
      "Instructions for updating:\n",
      "Please use Model.fit, which supports generators.\n",
      "Epoch 1/20\n",
      "7798/7798 [==============================] - 356s 46ms/step - loss: 1.3449 - accuracy: 0.6329 - val_loss: 0.1603 - val_accuracy: 0.9555\n",
      "Epoch 2/20\n",
      "7798/7798 [==============================] - 321s 41ms/step - loss: 0.6097 - accuracy: 0.8174 - val_loss: 0.1153 - val_accuracy: 0.9680\n",
      "Epoch 3/20\n",
      "7798/7798 [==============================] - 321s 41ms/step - loss: 0.4553 - accuracy: 0.8637 - val_loss: 0.0964 - val_accuracy: 0.9737\n",
      "Epoch 4/20\n",
      "7798/7798 [==============================] - 320s 41ms/step - loss: 0.3737 - accuracy: 0.8879 - val_loss: 0.0919 - val_accuracy: 0.9751\n",
      "Epoch 5/20\n",
      "7798/7798 [==============================] - 320s 41ms/step - loss: 0.3270 - accuracy: 0.9027 - val_loss: 0.0813 - val_accuracy: 0.9779\n",
      "Epoch 6/20\n",
      "7798/7798 [==============================] - 320s 41ms/step - loss: 0.2947 - accuracy: 0.9129 - val_loss: 0.0775 - val_accuracy: 0.9791\n",
      "Epoch 7/20\n",
      "7798/7798 [==============================] - 319s 41ms/step - loss: 0.2703 - accuracy: 0.9204 - val_loss: 0.0747 - val_accuracy: 0.9805\n",
      "Epoch 8/20\n",
      "7798/7798 [==============================] - 319s 41ms/step - loss: 0.2514 - accuracy: 0.9259 - val_loss: 0.0703 - val_accuracy: 0.9814\n",
      "Epoch 9/20\n",
      "7798/7798 [==============================] - 319s 41ms/step - loss: 0.2388 - accuracy: 0.9296 - val_loss: 0.0710 - val_accuracy: 0.9814\n",
      "Epoch 10/20\n",
      "7798/7798 [==============================] - 319s 41ms/step - loss: 0.2234 - accuracy: 0.9346 - val_loss: 0.0660 - val_accuracy: 0.9826\n",
      "Epoch 11/20\n",
      "7798/7798 [==============================] - 319s 41ms/step - loss: 0.2151 - accuracy: 0.9372 - val_loss: 0.0707 - val_accuracy: 0.9817\n",
      "Epoch 12/20\n",
      "7798/7798 [==============================] - 319s 41ms/step - loss: 0.2076 - accuracy: 0.9398 - val_loss: 0.0634 - val_accuracy: 0.9837\n",
      "Epoch 13/20\n",
      "7798/7798 [==============================] - 319s 41ms/step - loss: 0.1988 - accuracy: 0.9423 - val_loss: 0.0634 - val_accuracy: 0.9836\n",
      "Epoch 14/20\n",
      "7798/7798 [==============================] - 319s 41ms/step - loss: 0.1939 - accuracy: 0.9439 - val_loss: 0.0642 - val_accuracy: 0.9832\n",
      "Epoch 15/20\n",
      "7798/7798 [==============================] - 319s 41ms/step - loss: 0.1872 - accuracy: 0.9459 - val_loss: 0.0596 - val_accuracy: 0.9846\n",
      "Epoch 16/20\n",
      "7798/7798 [==============================] - 319s 41ms/step - loss: 0.1809 - accuracy: 0.9477 - val_loss: 0.0601 - val_accuracy: 0.9844\n",
      "Epoch 17/20\n",
      "7798/7798 [==============================] - 319s 41ms/step - loss: 0.1755 - accuracy: 0.9491 - val_loss: 0.0580 - val_accuracy: 0.9852\n",
      "Epoch 18/20\n",
      "7798/7798 [==============================] - 319s 41ms/step - loss: 0.1711 - accuracy: 0.9501 - val_loss: 0.0594 - val_accuracy: 0.9849\n",
      "Epoch 19/20\n",
      "7798/7798 [==============================] - 319s 41ms/step - loss: 0.1704 - accuracy: 0.9506 - val_loss: 0.0574 - val_accuracy: 0.9855\n",
      "Epoch 20/20\n",
      "7798/7798 [==============================] - 326s 42ms/step - loss: 0.1658 - accuracy: 0.9526 - val_loss: 0.0564 - val_accuracy: 0.9856\n"
     ]
    }
   ],
   "source": [
    "print(\"[INFO] training network...\")\n",
    "\n",
    "H = model.fit_generator(aug.flow(X_train, y_train, batch_size=32),\n",
    "validation_data=(X_test, y_test), steps_per_epoch=len(X_train) // 32,\n",
    "epochs=20, verbose=1)"
   ]
  },
  {
   "cell_type": "code",
   "execution_count": 12,
   "id": "3608020f",
   "metadata": {},
   "outputs": [
    {
     "name": "stdout",
     "output_type": "stream",
     "text": [
      "[INFO] evaluating network...\n",
      "              precision    recall  f1-score   support\n",
      "\n",
      "           A       0.98      0.99      0.99      4518\n",
      "           B       0.97      0.99      0.98      2822\n",
      "           C       0.98      0.99      0.99      7893\n",
      "           D       0.97      0.92      0.95      3285\n",
      "           E       0.99      0.99      0.99      3773\n",
      "           F       0.95      0.99      0.97       367\n",
      "           G       0.97      0.97      0.97      1881\n",
      "           H       0.97      0.97      0.97      2363\n",
      "           I       0.96      0.99      0.98       383\n",
      "           J       0.98      0.97      0.97      2738\n",
      "           K       0.97      0.97      0.97      1876\n",
      "           L       0.99      0.97      0.98      3784\n",
      "           M       0.98      0.99      0.99      4081\n",
      "           N       0.99      0.99      0.99      6131\n",
      "           O       0.99      0.99      0.99     19161\n",
      "           P       0.99      0.99      0.99      6417\n",
      "           Q       0.98      0.98      0.98      1948\n",
      "           R       0.99      0.98      0.99      3752\n",
      "           S       1.00      1.00      1.00     15906\n",
      "           T       0.99      0.99      0.99      7439\n",
      "           U       0.99      0.99      0.99      9662\n",
      "           V       0.99      0.99      0.99      1421\n",
      "           W       0.98      0.98      0.98      3629\n",
      "           X       0.95      0.98      0.97      2112\n",
      "           Y       0.98      0.97      0.97      3566\n",
      "           Z       0.99      0.99      0.99      2001\n",
      "\n",
      "    accuracy                           0.99    122909\n",
      "   macro avg       0.98      0.98      0.98    122909\n",
      "weighted avg       0.99      0.99      0.99    122909\n",
      "\n"
     ]
    }
   ],
   "source": [
    "from sklearn.metrics import classification_report\n",
    "target_names=[\"A\",\"B\",\"C\",\"D\",\"E\",\"F\",\"G\",\"H\",\"I\",\"J\",\"K\",\"L\",\"M\",\"N\",\"O\",\"P\",\"Q\",\"R\",\"S\",\"T\",\"U\",\"V\",\"W\",\"X\",\"Y\",\"Z\"]\n",
    "print(\"[INFO] evaluating network...\")\n",
    "predictions = model.predict(X_test,batch_size=128)\n",
    "print(classification_report(y_test.argmax(axis=1),predictions.argmax(axis=1),\n",
    "                            target_names=target_names))"
   ]
  },
  {
   "cell_type": "code",
   "execution_count": 13,
   "id": "26e69eaa",
   "metadata": {},
   "outputs": [],
   "source": [
    "model.save(\"AlphabetrecognitionModel.hdf5\")"
   ]
  },
  {
   "cell_type": "code",
   "execution_count": 14,
   "id": "45271ec8",
   "metadata": {},
   "outputs": [
    {
     "data": {
      "image/png": "[encoded data removed]",
      "text/plain": [
       "<Figure size 432x288 with 1 Axes>"
      ]
     },
     "metadata": {},
     "output_type": "display_data"
    },
    {
     "data": {
      "text/plain": [
       "<Figure size 432x288 with 0 Axes>"
      ]
     },
     "metadata": {},
     "output_type": "display_data"
    }
   ],
   "source": [
    "plt.style.use(\"ggplot\")\n",
    "plt.figure()\n",
    "plt.plot(np.arange(0, 20), H.history[\"loss\"], label=\"train_loss\")\n",
    "plt.plot(np.arange(0, 20), H.history[\"val_loss\"], label=\"val_loss\")\n",
    "plt.plot(np.arange(0, 20), H.history[\"accuracy\"], label=\"train_acc\")\n",
    "plt.plot(np.arange(0, 20), H.history[\"val_accuracy\"], label=\"val_acc\")\n",
    "plt.title(\"Training Loss and Accuracy\")\n",
    "plt.xlabel(\"Epoch #\")\n",
    "plt.ylabel(\"Loss/Accuracy\")\n",
    "plt.legend()\n",
    "plt.show()\n",
    "plt.savefig('AlphabetrecogwithMiniVggnet.png')"
   ]
  },
  {
   "cell_type": "code",
   "execution_count": 15,
   "id": "4c7cae6a",
   "metadata": {},
   "outputs": [],
   "source": [
    "from contextlib import redirect_stdout\n",
    "\n",
    "with open('modelsummary.txt', 'w') as f:\n",
    "    with redirect_stdout(f):\n",
    "        model.summary()"
   ]
  },
  {
   "cell_type": "code",
   "execution_count": null,
   "id": "9bdd8fdd",
   "metadata": {},
   "outputs": [],
   "source": []
  }
 ],
 "metadata": {
  "kernelspec": {
   "display_name": "Python 3",
   "language": "python",
   "name": "python3"
  },
  "language_info": {
   "codemirror_mode": {
    "name": "ipython",
    "version": 3
   },
   "file_extension": ".py",
   "mimetype": "text/x-python",
   "name": "python",
   "nbconvert_exporter": "python",
   "pygments_lexer": "ipython3",
   "version": "3.6.9"
  }
 },
 "nbformat": 4,
 "nbformat_minor": 5
}
