{
 "cells": [
  {
   "cell_type": "code",
   "execution_count": 2,
   "id": "b6e59288",
   "metadata": {},
   "outputs": [],
   "source": [
    "import numpy as np # linear algebra\n",
    "import pandas as pd # data processing, CSV file I/O (e.g. pd.read_csv)\n",
    "import matplotlib.pyplot as plt\n",
    "import tensorflow as tf\n",
    "import cv2\n"
   ]
  },
  {
   "cell_type": "code",
   "execution_count": 3,
   "id": "a8b32b40",
   "metadata": {},
   "outputs": [],
   "source": [
    "mnist = tf.keras.datasets.mnist"
   ]
  },
  {
   "cell_type": "code",
   "execution_count": 4,
   "id": "a33dc1d9",
   "metadata": {},
   "outputs": [
    {
     "name": "stdout",
     "output_type": "stream",
     "text": [
      "image_train.shape: 28\n"
     ]
    }
   ],
   "source": [
    "(image_train, label_train), (image_test, label_test) = mnist.load_data()\n",
    "image_train, image_test = image_train / 255.0, image_test / 255.0\n",
    "print(\"image_train.shape:\", image_train.shape[1])"
   ]
  },
  {
   "cell_type": "code",
   "execution_count": 5,
   "id": "05f391a3",
   "metadata": {},
   "outputs": [
    {
     "name": "stdout",
     "output_type": "stream",
     "text": [
      "The installed version of TensorFlow includes GPU support.\n"
     ]
    }
   ],
   "source": [
    "    if tf.test.is_built_with_cuda():\n",
    "      print(\"The installed version of TensorFlow includes GPU support.\")"
   ]
  },
  {
   "cell_type": "code",
   "execution_count": 6,
   "id": "715ab537",
   "metadata": {},
   "outputs": [
    {
     "name": "stdout",
     "output_type": "stream",
     "text": [
      "predictions: \n",
      " [[ 0.25997785  0.31999373  0.6031638   0.63612145 -0.89297533  0.14573877\n",
      "   0.02621993 -0.57780933  0.5208998   0.07365183]]\n",
      "loss: \n",
      " 2.364271\n",
      "Epoch 1/5\n",
      "1875/1875 [==============================] - 13s 7ms/step - loss: 0.2962 - accuracy: 0.9149\n",
      "Epoch 2/5\n",
      "1875/1875 [==============================] - 13s 7ms/step - loss: 0.1468 - accuracy: 0.9563\n",
      "Epoch 3/5\n",
      "1875/1875 [==============================] - 13s 7ms/step - loss: 0.1067 - accuracy: 0.9683\n",
      "Epoch 4/5\n",
      "1875/1875 [==============================] - 13s 7ms/step - loss: 0.0910 - accuracy: 0.9724\n",
      "Epoch 5/5\n",
      "1875/1875 [==============================] - 13s 7ms/step - loss: 0.0771 - accuracy: 0.9766\n",
      "evaluation: \n",
      "\n",
      "313/313 - 2s - loss: 0.0748 - accuracy: 0.9784\n",
      "probabilities: \n",
      " tf.Tensor(\n",
      "[[8.8948511e-08 6.5801470e-10 4.2761972e-06 1.5438772e-04 1.0770507e-12\n",
      "  6.5910535e-07 1.9921798e-13 9.9983633e-01 1.7772483e-07 3.9529991e-06]\n",
      " [5.4205074e-10 2.1770675e-05 9.9994802e-01 2.7024453e-06 6.2285313e-16\n",
      "  2.4013172e-05 1.5356883e-07 4.8805713e-14 3.2420319e-06 1.2537585e-12]\n",
      " [1.1309702e-07 9.9964070e-01 7.0132162e-05 8.6054615e-06 2.9411391e-05\n",
      "  8.2166061e-06 4.5205411e-06 1.8909463e-04 4.8017009e-05 1.0454195e-06]\n",
      " [9.9964476e-01 6.2624799e-09 1.4110800e-05 5.8748057e-08 1.8744988e-07\n",
      "  4.7255162e-06 1.3171596e-04 1.9253591e-04 6.4980064e-08 1.1849814e-05]\n",
      " [2.0032783e-06 1.4348064e-09 2.6348876e-06 1.5636326e-08 9.9664491e-01\n",
      "  3.6289197e-07 7.8707740e-07 4.8524092e-04 2.3649113e-06 2.8616046e-03]], shape=(5, 10), dtype=float32)\n"
     ]
    }
   ],
   "source": [
    "#tf.debugging.set_log_device_placement(True)\n",
    "\n",
    "#gpus = tf.config.list_logical_devices('GPU')\n",
    "#strategy = tf.distribute.MirroredStrategy(gpus)\n",
    "with tf.device('/device:GPU:0'):\n",
    "\n",
    "    model = tf.keras.models.Sequential([\n",
    "      tf.keras.layers.Flatten(input_shape=(28, 28)),\n",
    "      tf.keras.layers.Dense(128, activation='relu'),\n",
    "      tf.keras.layers.Dropout(0.2),\n",
    "      tf.keras.layers.Dense(10)\n",
    "    ])\n",
    "\n",
    "    tf.debugging.set_log_device_placement(True)\n",
    "\n",
    "\n",
    "    predictions = model(image_train[:1]).numpy()\n",
    "\n",
    "    print(\"predictions: \\n\", predictions)\n",
    "\n",
    "    loss_fn = tf.keras.losses.SparseCategoricalCrossentropy(from_logits=True)\n",
    "\n",
    "    print(\"loss: \\n\", loss_fn(label_train[:1], predictions).numpy())\n",
    "\n",
    "\n",
    "    model.compile(optimizer='adam',\n",
    "                  loss=loss_fn,\n",
    "                  metrics=['accuracy'])\n",
    "\n",
    "    model.fit(image_train, label_train, epochs=5)\n",
    "\n",
    "    print(\"evaluation: \\n\")\n",
    "\n",
    "    model.evaluate(image_test,  label_test, verbose=2)\n",
    "\n",
    "    probability_model = tf.keras.Sequential([\n",
    "      model,\n",
    "      tf.keras.layers.Softmax()\n",
    "    ])\n",
    "\n",
    "    print(\"probabilities: \\n\", probability_model(image_test[:5]))"
   ]
  },
  {
   "cell_type": "code",
   "execution_count": 7,
   "id": "47092496",
   "metadata": {
    "scrolled": false
   },
   "outputs": [
    {
     "name": "stdout",
     "output_type": "stream",
     "text": [
      "[7 2 1 ... 4 5 6]\n",
      "(10000,)\n"
     ]
    },
    {
     "data": {
      "image/png": "[encoded data removed]",
      "text/plain": [
       "<Figure size 144x144 with 1 Axes>"
      ]
     },
     "metadata": {
      "needs_background": "light"
     },
     "output_type": "display_data"
    },
    {
     "data": {
      "image/png": "[encoded data removed]",
      "text/plain": [
       "<Figure size 144x144 with 1 Axes>"
      ]
     },
     "metadata": {
      "needs_background": "light"
     },
     "output_type": "display_data"
    },
    {
     "data": {
      "image/png": "[encoded data removed]",
      "text/plain": [
       "<Figure size 144x144 with 1 Axes>"
      ]
     },
     "metadata": {
      "needs_background": "light"
     },
     "output_type": "display_data"
    },
    {
     "data": {
      "image/png": "[encoded data removed]",
      "text/plain": [
       "<Figure size 144x144 with 1 Axes>"
      ]
     },
     "metadata": {
      "needs_background": "light"
     },
     "output_type": "display_data"
    },
    {
     "data": {
      "image/png": "[encoded data removed]",
      "text/plain": [
       "<Figure size 144x144 with 1 Axes>"
      ]
     },
     "metadata": {
      "needs_background": "light"
     },
     "output_type": "display_data"
    },
    {
     "data": {
      "image/png": "[encoded data removed]",
      "text/plain": [
       "<Figure size 144x144 with 1 Axes>"
      ]
     },
     "metadata": {
      "needs_background": "light"
     },
     "output_type": "display_data"
    },
    {
     "data": {
      "image/png": "[encoded data removed]",
      "text/plain": [
       "<Figure size 144x144 with 1 Axes>"
      ]
     },
     "metadata": {
      "needs_background": "light"
     },
     "output_type": "display_data"
    },
    {
     "data": {
      "image/png": "[encoded data removed]",
      "text/plain": [
       "<Figure size 144x144 with 1 Axes>"
      ]
     },
     "metadata": {
      "needs_background": "light"
     },
     "output_type": "display_data"
    },
    {
     "data": {
      "image/png": "[encoded data removed]",
      "text/plain": [
       "<Figure size 144x144 with 1 Axes>"
      ]
     },
     "metadata": {
      "needs_background": "light"
     },
     "output_type": "display_data"
    },
    {
     "data": {
      "image/png": "[encoded data removed]",
      "text/plain": [
       "<Figure size 144x144 with 1 Axes>"
      ]
     },
     "metadata": {
      "needs_background": "light"
     },
     "output_type": "display_data"
    }
   ],
   "source": [
    "#hashmap\n",
    "classes = {i:chr(i+48) for i in range(10)}\n",
    "classes\n",
    "\n",
    "# get an image and its actual label/class\n",
    "# the batch size in data_test is 1, each batch contains 1 sample \n",
    "\n",
    "# predict label\n",
    "test_label_pred = np.argmax(probability_model.predict(image_test), axis = 1)\n",
    "\n",
    "print(test_label_pred)\n",
    "print(test_label_pred.shape)\n",
    "\n",
    "for i in range(10):\n",
    "    plt.figure(figsize=(2, 2))\n",
    "    plt.imshow(image_test[i], cmap='binary')\n",
    "    plt.title(f'actual:{classes[label_test[i]]}, predicted:{classes[test_label_pred[i]]}')"
   ]
  },
  {
   "cell_type": "code",
   "execution_count": 9,
   "id": "fe057908",
   "metadata": {},
   "outputs": [
    {
     "name": "stdout",
     "output_type": "stream",
     "text": [
      "ERROR: ld.so: object '/' from LD_PRELOAD cannot be preloaded (cannot read file data): ignored.\n",
      "ERROR: ld.so: object '/' from LD_PRELOAD cannot be preloaded (cannot read file data): ignored.\n",
      "INFO:tensorflow:Assets written to: saved_model/my_model/assets\n"
     ]
    }
   ],
   "source": [
    "!mkdir -p saved_model\n",
    "model.save('saved_model/my_model')"
   ]
  },
  {
   "cell_type": "code",
   "execution_count": 69,
   "id": "da1dc2f1",
   "metadata": {
    "scrolled": true
   },
   "outputs": [
    {
     "name": "stdout",
     "output_type": "stream",
     "text": [
      "(28, 28, 1)\n",
      "[1]\n"
     ]
    },
    {
     "data": {
      "image/png": "[encoded data removed]",
      "text/plain": [
       "<Figure size 432x288 with 1 Axes>"
      ]
     },
     "metadata": {
      "needs_background": "light"
     },
     "output_type": "display_data"
    }
   ],
   "source": [
    "#img_width, img_height = 28, 28\n",
    "#img = tf.keras.preprocessing.image.load_img('5.jpg', target_size = (img_width, img_height))\n",
    "#img = tf.keras.preprocessing.image.img_to_array(img)\n",
    "#img = np.expand_dims(img, axis = 0)\n",
    "\n",
    "\n",
    "img = cv2.imread('./data/1-1.jpg')\n",
    "\n",
    "img = cv2. cvtColor(img, cv2.COLOR_BGR2GRAY)\n",
    "\n",
    "img=cv2.resize(img, (28,28)) # resize to 28,28 as that is on which model is trained on\n",
    "\n",
    "img = np.expand_dims(img, 2)\n",
    "\n",
    "img = ~img\n",
    "\n",
    "print(img.shape)\n",
    "\n",
    "plt.imshow(img,cmap='binary')\n",
    "\n",
    "#img = tf.expand_dims(img, 0) # expand the dims means change shape from (180, 180, 3) to (1, 180, 180, 3)\n",
    "prediction = np.argmax(probability_model.predict(img), axis = 1)\n",
    "print(prediction)"
   ]
  },
  {
   "cell_type": "code",
   "execution_count": null,
   "id": "52fa990a",
   "metadata": {},
   "outputs": [],
   "source": []
  },
  {
   "cell_type": "code",
   "execution_count": null,
   "id": "2cb74fc8",
   "metadata": {},
   "outputs": [],
   "source": []
  }
 ],
 "metadata": {
  "kernelspec": {
   "display_name": "Python 3",
   "language": "python",
   "name": "python3"
  },
  "language_info": {
   "codemirror_mode": {
    "name": "ipython",
    "version": 3
   },
   "file_extension": ".py",
   "mimetype": "text/x-python",
   "name": "python",
   "nbconvert_exporter": "python",
   "pygments_lexer": "ipython3",
   "version": "3.6.9"
  }
 },
 "nbformat": 4,
 "nbformat_minor": 5
}
